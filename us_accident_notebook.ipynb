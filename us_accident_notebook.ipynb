{
  "nbformat": 4,
  "nbformat_minor": 0,
  "metadata": {
    "kernelspec": {
      "display_name": "Python 3",
      "language": "python",
      "name": "python3"
    },
    "language_info": {
      "codemirror_mode": {
        "name": "ipython",
        "version": 3
      },
      "file_extension": ".py",
      "mimetype": "text/x-python",
      "name": "python",
      "nbconvert_exporter": "python",
      "pygments_lexer": "ipython3",
      "version": "3.7.6"
    },
    "colab": {
      "name": "us-accident-notebook.ipynb",
      "provenance": [],
      "collapsed_sections": [],
      "include_colab_link": true
    }
  },
  "cells": [
    {
      "cell_type": "markdown",
      "metadata": {
        "id": "view-in-github",
        "colab_type": "text"
      },
      "source": [
        "<a href=\"https://colab.research.google.com/github/nitinarya2001/Web-Developement-Project/blob/main/us_accident_notebook.ipynb\" target=\"_parent\"><img src=\"https://colab.research.google.com/assets/colab-badge.svg\" alt=\"Open In Colab\"/></a>"
      ]
    },
    {
      "cell_type": "code",
      "metadata": {
        "id": "_jfDMkg6hogB"
      },
      "source": [
        "# Jovian Commit Essentials\n",
        "# Please retain and execute this cell without modifying the contents for `jovian.commit` to work\n",
        "!pip install jovian --upgrade -q\n",
        "import jovian\n",
        "jovian.set_project('us-accident-notebook')\n",
        "jovian.set_colab_id('1boqpfpNu5HZ9M3EE3519L-8fcUfEcAWX')"
      ],
      "execution_count": null,
      "outputs": []
    },
    {
      "cell_type": "markdown",
      "metadata": {
        "id": "BqT0zbKPhogF"
      },
      "source": [
        "# us-accident-notebook\n",
        "\n",
        "Use the \"Run\" button to execute the code."
      ]
    },
    {
      "cell_type": "markdown",
      "metadata": {
        "id": "scvFh9_9iazL"
      },
      "source": [
        "# US Accident Exploratory Data - Analysis\n",
        "\n",
        "TODO - talk about EDA\n",
        "\n",
        "TODO - talk about data set(Source,What it Contains,How it will useful\n",
        "  - Kaggle\n",
        "  - Information about accidents\n",
        "  - useful to prevent accidents\n",
        "  - Mention that this does not contain data about New York \n"
      ]
    },
    {
      "cell_type": "code",
      "metadata": {
        "id": "q4vq4Qh0iM6k"
      },
      "source": [
        "pip install opendatasets --upgrade --quiet"
      ],
      "execution_count": 1,
      "outputs": []
    },
    {
      "cell_type": "code",
      "metadata": {
        "colab": {
          "base_uri": "https://localhost:8080/"
        },
        "id": "2cViGwXVlciJ",
        "outputId": "2d2a7e78-dad9-42c1-b663-f26d806247cf"
      },
      "source": [
        "import opendatasets as od\n",
        "\n",
        "download_url = 'https://www.kaggle.com/sobhanmoosavi/us-accidents'\n",
        "od.download(download_url)\n"
      ],
      "execution_count": 3,
      "outputs": [
        {
          "output_type": "stream",
          "text": [
            "Please provide your Kaggle credentials to download this dataset. Learn more: http://bit.ly/kaggle-creds\n",
            "Your Kaggle username: aryanit2001\n",
            "Your Kaggle Key: ··········\n"
          ],
          "name": "stdout"
        },
        {
          "output_type": "stream",
          "text": [
            "\r  0%|          | 0.00/290M [00:00<?, ?B/s]"
          ],
          "name": "stderr"
        },
        {
          "output_type": "stream",
          "text": [
            "Downloading us-accidents.zip to ./us-accidents\n"
          ],
          "name": "stdout"
        },
        {
          "output_type": "stream",
          "text": [
            "100%|██████████| 290M/290M [00:10<00:00, 27.8MB/s]\n"
          ],
          "name": "stderr"
        },
        {
          "output_type": "stream",
          "text": [
            "\n"
          ],
          "name": "stdout"
        }
      ]
    },
    {
      "cell_type": "code",
      "metadata": {
        "id": "FlwxV8w8lceA"
      },
      "source": [
        "data_filename = './us-accidents/US_Accidents_Dec20_Updated.csv'"
      ],
      "execution_count": 5,
      "outputs": []
    },
    {
      "cell_type": "markdown",
      "metadata": {
        "id": "2xu8j1gajC-W"
      },
      "source": [
        "## Data Prepration and Cleaning\n",
        "- Load the file using Pandas\n",
        "- Look at some information about the data and columns\n",
        "- fix any missing or incoreect values\n",
        "\n",
        "\n"
      ]
    },
    {
      "cell_type": "code",
      "metadata": {
        "id": "D9b55btujBoz"
      },
      "source": [
        "import pandas as pd"
      ],
      "execution_count": 6,
      "outputs": []
    },
    {
      "cell_type": "code",
      "metadata": {
        "id": "S0LMlHoQjBiI"
      },
      "source": [
        "df = pd.read_csv(data_filename)"
      ],
      "execution_count": 7,
      "outputs": []
    },
    {
      "cell_type": "code",
      "metadata": {
        "id": "xFU6CUtkiMZk"
      },
      "source": [
        "df"
      ],
      "execution_count": null,
      "outputs": []
    },
    {
      "cell_type": "code",
      "metadata": {
        "id": "27ZLP6nO2ADd"
      },
      "source": [
        "df.columns"
      ],
      "execution_count": null,
      "outputs": []
    },
    {
      "cell_type": "code",
      "metadata": {
        "id": "45lBhdhO1_-m"
      },
      "source": [
        "len(df.columns)"
      ],
      "execution_count": null,
      "outputs": []
    },
    {
      "cell_type": "code",
      "metadata": {
        "id": "_leYRs_i1_8p"
      },
      "source": [
        "df.describe()"
      ],
      "execution_count": null,
      "outputs": []
    },
    {
      "cell_type": "code",
      "metadata": {
        "colab": {
          "base_uri": "https://localhost:8080/"
        },
        "id": "gFwPBXa-1_4f",
        "outputId": "ff35ea69-ca8b-4f06-9f4d-67854093c558"
      },
      "source": [
        "numerics = ['int16','int32','int64','float16','float32','float64']\n",
        "numeric_df = df.select_dtypes(include=numerics)\n",
        "len(numeric_df.columns)"
      ],
      "execution_count": 12,
      "outputs": [
        {
          "output_type": "execute_result",
          "data": {
            "text/plain": [
              "14"
            ]
          },
          "metadata": {
            "tags": []
          },
          "execution_count": 12
        }
      ]
    },
    {
      "cell_type": "markdown",
      "metadata": {
        "id": "94k5xhaxH7zu"
      },
      "source": [
        "Percentage of missing values per column"
      ]
    },
    {
      "cell_type": "code",
      "metadata": {
        "id": "DOoNTLy31_1_"
      },
      "source": [
        "missing_percentages = df.isna().sum().sort_values(ascending=False)/ len(df)\n",
        "missing_percentages"
      ],
      "execution_count": null,
      "outputs": []
    },
    {
      "cell_type": "code",
      "metadata": {
        "colab": {
          "base_uri": "https://localhost:8080/"
        },
        "id": "JUIOnLzlJzn_",
        "outputId": "83097fd6-3869-433a-acc9-df30907f2a4c"
      },
      "source": [
        "missing_percentages[missing_percentages != 0]"
      ],
      "execution_count": 15,
      "outputs": [
        {
          "output_type": "execute_result",
          "data": {
            "text/plain": [
              "Number                   0.650817\n",
              "Precipitation(in)        0.447713\n",
              "Wind_Chill(F)            0.407299\n",
              "Wind_Speed(mph)          0.105677\n",
              "End_Lat                  0.097303\n",
              "End_Lng                  0.097303\n",
              "Visibility(mi)           0.024798\n",
              "Weather_Condition        0.024720\n",
              "Humidity(%)              0.024520\n",
              "Temperature(F)           0.023128\n",
              "Wind_Direction           0.021838\n",
              "Pressure(in)             0.019579\n",
              "Weather_Timestamp        0.016141\n",
              "Airport_Code             0.002273\n",
              "Timezone                 0.001180\n",
              "Zipcode                  0.000383\n",
              "Nautical_Twilight        0.000038\n",
              "Astronomical_Twilight    0.000038\n",
              "Civil_Twilight           0.000038\n",
              "Sunrise_Sunset           0.000038\n",
              "City                     0.000037\n",
              "dtype: float64"
            ]
          },
          "metadata": {
            "tags": []
          },
          "execution_count": 15
        }
      ]
    },
    {
      "cell_type": "code",
      "metadata": {
        "colab": {
          "base_uri": "https://localhost:8080/"
        },
        "id": "4gU9aQ8dJKWe",
        "outputId": "c1db7019-5f09-4d8a-f9f8-17f38416e0fc"
      },
      "source": [
        "type(missing_percentages)"
      ],
      "execution_count": 16,
      "outputs": [
        {
          "output_type": "execute_result",
          "data": {
            "text/plain": [
              "pandas.core.series.Series"
            ]
          },
          "metadata": {
            "tags": []
          },
          "execution_count": 16
        }
      ]
    },
    {
      "cell_type": "code",
      "metadata": {
        "colab": {
          "base_uri": "https://localhost:8080/",
          "height": 282
        },
        "id": "qPtgx9SFjPFI",
        "outputId": "a06a9af2-027a-4c86-a113-1253896f4d2d"
      },
      "source": [
        "missing_percentages[missing_percentages != 0].plot(kind = 'barh')"
      ],
      "execution_count": 17,
      "outputs": [
        {
          "output_type": "execute_result",
          "data": {
            "text/plain": [
              "<matplotlib.axes._subplots.AxesSubplot at 0x7f7cb9812190>"
            ]
          },
          "metadata": {
            "tags": []
          },
          "execution_count": 17
        },
        {
          "output_type": "display_data",
          "data": {
            "image/png": "[encoded data removed]",
            "text/plain": [
              "<Figure size 432x288 with 1 Axes>"
            ]
          },
          "metadata": {
            "tags": [],
            "needs_background": "light"
          }
        }
      ]
    },
    {
      "cell_type": "markdown",
      "metadata": {
        "id": "XXO5ysUHKp55"
      },
      "source": [
        "Remove columns that you don't want to use."
      ]
    },
    {
      "cell_type": "code",
      "metadata": {
        "id": "mdWd6lnlKpcX"
      },
      "source": [
        ""
      ],
      "execution_count": null,
      "outputs": []
    },
    {
      "cell_type": "code",
      "metadata": {
        "id": "sMprMzunKpaX"
      },
      "source": [
        ""
      ],
      "execution_count": null,
      "outputs": []
    },
    {
      "cell_type": "markdown",
      "metadata": {
        "id": "2XrLRKLgjP1Y"
      },
      "source": [
        "## Exploratory Analysis And Visualization\n",
        "Columns we will ananlyze\n",
        "\n",
        "1. City\n",
        "2. Start_Time\n"
      ]
    },
    {
      "cell_type": "code",
      "metadata": {
        "id": "dpa5d74qjPDP"
      },
      "source": [
        "df.columns"
      ],
      "execution_count": null,
      "outputs": []
    },
    {
      "cell_type": "markdown",
      "metadata": {
        "id": "HF3MSwtOge3C"
      },
      "source": [
        "### City"
      ]
    },
    {
      "cell_type": "code",
      "metadata": {
        "id": "FBc5y1RqjO3j"
      },
      "source": [
        "df.City"
      ],
      "execution_count": null,
      "outputs": []
    },
    {
      "cell_type": "code",
      "metadata": {
        "colab": {
          "base_uri": "https://localhost:8080/"
        },
        "id": "8zVV4SJNN9Ex",
        "outputId": "ec026c9e-dc75-4fdc-84ba-001c53c3da69"
      },
      "source": [
        "df.City.unique()"
      ],
      "execution_count": 20,
      "outputs": [
        {
          "output_type": "execute_result",
          "data": {
            "text/plain": [
              "array(['Greenville', 'Charlotte', 'Los Gatos', ..., 'Allons', 'Adolphus',\n",
              "       'Gowanda'], dtype=object)"
            ]
          },
          "metadata": {
            "tags": []
          },
          "execution_count": 20
        }
      ]
    },
    {
      "cell_type": "code",
      "metadata": {
        "colab": {
          "base_uri": "https://localhost:8080/"
        },
        "id": "8Pd-qBE_N81u",
        "outputId": "a7c20a81-18cc-49c6-f48c-89922f370917"
      },
      "source": [
        "Cities = df.City.unique()\n",
        "len(Cities)"
      ],
      "execution_count": 21,
      "outputs": [
        {
          "output_type": "execute_result",
          "data": {
            "text/plain": [
              "11790"
            ]
          },
          "metadata": {
            "tags": []
          },
          "execution_count": 21
        }
      ]
    },
    {
      "cell_type": "code",
      "metadata": {
        "colab": {
          "base_uri": "https://localhost:8080/"
        },
        "id": "j1mrISWMN80L",
        "outputId": "31a371f9-4f8f-477d-c6b4-3eaf697a99bf"
      },
      "source": [
        "cities_by_accident = df.City.value_counts()\n",
        "cities_by_accident"
      ],
      "execution_count": 22,
      "outputs": [
        {
          "output_type": "execute_result",
          "data": {
            "text/plain": [
              "Los Angeles        68411\n",
              "Houston            68265\n",
              "Charlotte          56176\n",
              "Miami              49965\n",
              "Dallas             48525\n",
              "                   ...  \n",
              "Prairie Village        1\n",
              "Shell                  1\n",
              "Geraldine              1\n",
              "Farmerville            1\n",
              "Copper Hill            1\n",
              "Name: City, Length: 11789, dtype: int64"
            ]
          },
          "metadata": {
            "tags": []
          },
          "execution_count": 22
        }
      ]
    },
    {
      "cell_type": "code",
      "metadata": {
        "colab": {
          "base_uri": "https://localhost:8080/"
        },
        "id": "j2GFZ1ogN8v5",
        "outputId": "1564d8ef-98d8-46d1-9dfb-3084a130a164"
      },
      "source": [
        "cities_by_accident[:10]"
      ],
      "execution_count": 23,
      "outputs": [
        {
          "output_type": "execute_result",
          "data": {
            "text/plain": [
              "Los Angeles    68411\n",
              "Houston        68265\n",
              "Charlotte      56176\n",
              "Miami          49965\n",
              "Dallas         48525\n",
              "Austin         38808\n",
              "Raleigh        31355\n",
              "Atlanta        29244\n",
              "Sacramento     28984\n",
              "Orlando        28092\n",
              "Name: City, dtype: int64"
            ]
          },
          "metadata": {
            "tags": []
          },
          "execution_count": 23
        }
      ]
    },
    {
      "cell_type": "code",
      "metadata": {
        "colab": {
          "base_uri": "https://localhost:8080/"
        },
        "id": "EWIZiytoN8t1",
        "outputId": "2c551771-f7ff-4084-f68d-0c38d97c37c2"
      },
      "source": [
        "'New York' in df.City"
      ],
      "execution_count": 24,
      "outputs": [
        {
          "output_type": "execute_result",
          "data": {
            "text/plain": [
              "False"
            ]
          },
          "metadata": {
            "tags": []
          },
          "execution_count": 24
        }
      ]
    },
    {
      "cell_type": "markdown",
      "metadata": {
        "id": "MMztzvT5VGJl"
      },
      "source": [
        "New York data is not present in data analysis .\n",
        "\n",
        "Among the top 100 city in number of accidents,Los Angeles city do they belong to most frequently .\n"
      ]
    },
    {
      "cell_type": "code",
      "metadata": {
        "colab": {
          "base_uri": "https://localhost:8080/",
          "height": 282
        },
        "id": "XcMkp8hxN8qa",
        "outputId": "ea39826b-a415-4dcd-b60f-9e9fc03c5dda"
      },
      "source": [
        "cities_by_accident[:20].plot(kind = 'barh')"
      ],
      "execution_count": 25,
      "outputs": [
        {
          "output_type": "execute_result",
          "data": {
            "text/plain": [
              "<matplotlib.axes._subplots.AxesSubplot at 0x7f7cb929d710>"
            ]
          },
          "metadata": {
            "tags": []
          },
          "execution_count": 25
        },
        {
          "output_type": "display_data",
          "data": {
            "image/png": "[encoded data removed]",
            "text/plain": [
              "<Figure size 432x288 with 1 Axes>"
            ]
          },
          "metadata": {
            "tags": [],
            "needs_background": "light"
          }
        }
      ]
    },
    {
      "cell_type": "code",
      "metadata": {
        "id": "JOH2EDiZN8oe"
      },
      "source": [
        "import seaborn as sns\n",
        "sns.set_style('darkgrid')"
      ],
      "execution_count": 26,
      "outputs": []
    },
    {
      "cell_type": "code",
      "metadata": {
        "colab": {
          "base_uri": "https://localhost:8080/",
          "height": 300
        },
        "id": "Y8LRfc2_jO1D",
        "outputId": "ce5a1043-15a6-4247-d79d-051b0156d060"
      },
      "source": [
        "sns.histplot(cities_by_accident,log_scale=True)"
      ],
      "execution_count": 27,
      "outputs": [
        {
          "output_type": "execute_result",
          "data": {
            "text/plain": [
              "<matplotlib.axes._subplots.AxesSubplot at 0x7f7caa8f0750>"
            ]
          },
          "metadata": {
            "tags": []
          },
          "execution_count": 27
        },
        {
          "output_type": "display_data",
          "data": {
            "image/png": "[encoded data removed]",
            "text/plain": [
              "<Figure size 432x288 with 1 Axes>"
            ]
          },
          "metadata": {
            "tags": []
          }
        }
      ]
    },
    {
      "cell_type": "code",
      "metadata": {
        "id": "Lx3iEOBLb8O4"
      },
      "source": [
        "high_accident_cities = cities_by_accident[cities_by_accident >= 1000]\n",
        "low_accident_cities = cities_by_accident[cities_by_accident < 1000]"
      ],
      "execution_count": 28,
      "outputs": []
    },
    {
      "cell_type": "code",
      "metadata": {
        "colab": {
          "base_uri": "https://localhost:8080/"
        },
        "id": "Q5LKRNYDb8NI",
        "outputId": "3417432c-1179-4e70-9361-26d6817c9583"
      },
      "source": [
        "len(high_accident_cities) / len(Cities)\n"
      ],
      "execution_count": 29,
      "outputs": [
        {
          "output_type": "execute_result",
          "data": {
            "text/plain": [
              "0.04351145038167939"
            ]
          },
          "metadata": {
            "tags": []
          },
          "execution_count": 29
        }
      ]
    },
    {
      "cell_type": "code",
      "metadata": {
        "colab": {
          "base_uri": "https://localhost:8080/",
          "height": 350
        },
        "id": "SJzA1Nzrb76u",
        "outputId": "d437c023-3187-4832-abca-96290f399a6a"
      },
      "source": [
        "sns.distplot(high_accident_cities)"
      ],
      "execution_count": 30,
      "outputs": [
        {
          "output_type": "stream",
          "text": [
            "/usr/local/lib/python3.7/dist-packages/seaborn/distributions.py:2557: FutureWarning: `distplot` is a deprecated function and will be removed in a future version. Please adapt your code to use either `displot` (a figure-level function with similar flexibility) or `histplot` (an axes-level function for histograms).\n",
            "  warnings.warn(msg, FutureWarning)\n"
          ],
          "name": "stderr"
        },
        {
          "output_type": "execute_result",
          "data": {
            "text/plain": [
              "<matplotlib.axes._subplots.AxesSubplot at 0x7f7caa5b0c50>"
            ]
          },
          "metadata": {
            "tags": []
          },
          "execution_count": 30
        },
        {
          "output_type": "display_data",
          "data": {
            "image/png": "[encoded data removed]",
            "text/plain": [
              "<Figure size 432x288 with 1 Axes>"
            ]
          },
          "metadata": {
            "tags": []
          }
        }
      ]
    },
    {
      "cell_type": "code",
      "metadata": {
        "colab": {
          "base_uri": "https://localhost:8080/",
          "height": 350
        },
        "id": "eU6frgldb75C",
        "outputId": "9905c0c7-fcc9-41d2-d6f6-2efc05ff9d04"
      },
      "source": [
        "sns.distplot(low_accident_cities)"
      ],
      "execution_count": 31,
      "outputs": [
        {
          "output_type": "stream",
          "text": [
            "/usr/local/lib/python3.7/dist-packages/seaborn/distributions.py:2557: FutureWarning: `distplot` is a deprecated function and will be removed in a future version. Please adapt your code to use either `displot` (a figure-level function with similar flexibility) or `histplot` (an axes-level function for histograms).\n",
            "  warnings.warn(msg, FutureWarning)\n"
          ],
          "name": "stderr"
        },
        {
          "output_type": "execute_result",
          "data": {
            "text/plain": [
              "<matplotlib.axes._subplots.AxesSubplot at 0x7f7ca84ed0d0>"
            ]
          },
          "metadata": {
            "tags": []
          },
          "execution_count": 31
        },
        {
          "output_type": "display_data",
          "data": {
            "image/png": "[encoded data removed]",
            "text/plain": [
              "<Figure size 432x288 with 1 Axes>"
            ]
          },
          "metadata": {
            "tags": []
          }
        }
      ]
    },
    {
      "cell_type": "code",
      "metadata": {
        "colab": {
          "base_uri": "https://localhost:8080/"
        },
        "id": "xxqknRTqeI_Y",
        "outputId": "189eb5ca-38a6-4bd8-9958-1ffa32230ddd"
      },
      "source": [
        "cities_by_accident[cities_by_accident == 1]"
      ],
      "execution_count": 32,
      "outputs": [
        {
          "output_type": "execute_result",
          "data": {
            "text/plain": [
              "Cooper             1\n",
              "Blanchardville     1\n",
              "Camp Meeker        1\n",
              "Springtown         1\n",
              "Jena               1\n",
              "                  ..\n",
              "Prairie Village    1\n",
              "Shell              1\n",
              "Geraldine          1\n",
              "Farmerville        1\n",
              "Copper Hill        1\n",
              "Name: City, Length: 1306, dtype: int64"
            ]
          },
          "metadata": {
            "tags": []
          },
          "execution_count": 32
        }
      ]
    },
    {
      "cell_type": "markdown",
      "metadata": {
        "id": "r67vsNi-gqgI"
      },
      "source": [
        "### Start-Time"
      ]
    },
    {
      "cell_type": "code",
      "metadata": {
        "colab": {
          "base_uri": "https://localhost:8080/"
        },
        "id": "p0TcESSXgqHm",
        "outputId": "21670075-150b-442b-ed88-5d5bf9fd50db"
      },
      "source": [
        "df.Start_Time"
      ],
      "execution_count": 33,
      "outputs": [
        {
          "output_type": "execute_result",
          "data": {
            "text/plain": [
              "0          2019-05-21 08:29:55\n",
              "1          2019-10-07 17:43:09\n",
              "2          2020-12-13 21:53:00\n",
              "3          2018-04-17 16:51:23\n",
              "4          2016-08-31 17:40:49\n",
              "                  ...         \n",
              "2906605    2018-06-28 08:49:01\n",
              "2906606    2019-01-10 02:01:01\n",
              "2906607    2020-11-23 12:52:00\n",
              "2906608    2019-12-29 22:38:00\n",
              "2906609    2018-03-26 13:35:03\n",
              "Name: Start_Time, Length: 2906610, dtype: object"
            ]
          },
          "metadata": {
            "tags": []
          },
          "execution_count": 33
        }
      ]
    },
    {
      "cell_type": "code",
      "metadata": {
        "id": "Xm_qOSsPgqDX"
      },
      "source": [
        "df.Start_Time = pd.to_datetime(df.Start_Time)"
      ],
      "execution_count": 34,
      "outputs": []
    },
    {
      "cell_type": "markdown",
      "metadata": {
        "id": "uxIc_Enn_SDk"
      },
      "source": [
        "How to figure out percentage"
      ]
    },
    {
      "cell_type": "code",
      "metadata": {
        "colab": {
          "base_uri": "https://localhost:8080/",
          "height": 350
        },
        "id": "DKqJRI1dgp-a",
        "outputId": "1267627b-b4ea-44c5-c2a7-2c1aabcd06c1"
      },
      "source": [
        "sns.distplot(df.Start_Time.dt.hour,bins = 24, kde = False,norm_hist=True)"
      ],
      "execution_count": 35,
      "outputs": [
        {
          "output_type": "stream",
          "text": [
            "/usr/local/lib/python3.7/dist-packages/seaborn/distributions.py:2557: FutureWarning: `distplot` is a deprecated function and will be removed in a future version. Please adapt your code to use either `displot` (a figure-level function with similar flexibility) or `histplot` (an axes-level function for histograms).\n",
            "  warnings.warn(msg, FutureWarning)\n"
          ],
          "name": "stderr"
        },
        {
          "output_type": "execute_result",
          "data": {
            "text/plain": [
              "<matplotlib.axes._subplots.AxesSubplot at 0x7f7c9fbcd250>"
            ]
          },
          "metadata": {
            "tags": []
          },
          "execution_count": 35
        },
        {
          "output_type": "display_data",
          "data": {
            "image/png": "[encoded data removed]",
            "text/plain": [
              "<Figure size 432x288 with 1 Axes>"
            ]
          },
          "metadata": {
            "tags": []
          }
        }
      ]
    },
    {
      "cell_type": "markdown",
      "metadata": {
        "id": "lqlKHjrM_wcL"
      },
      "source": [
        "A high percentage of accident is occur in 6 am to 9 am\n",
        "Next highest percentage is 3 pm to 6 pm"
      ]
    },
    {
      "cell_type": "code",
      "metadata": {
        "colab": {
          "base_uri": "https://localhost:8080/",
          "height": 350
        },
        "id": "op7qtKqtArsz",
        "outputId": "ea4a1832-2bae-4ff5-d683-1356f909fee9"
      },
      "source": [
        "sns.distplot(df.Start_Time.dt.dayofweek,bins = 7, kde = False,norm_hist=True)"
      ],
      "execution_count": 36,
      "outputs": [
        {
          "output_type": "stream",
          "text": [
            "/usr/local/lib/python3.7/dist-packages/seaborn/distributions.py:2557: FutureWarning: `distplot` is a deprecated function and will be removed in a future version. Please adapt your code to use either `displot` (a figure-level function with similar flexibility) or `histplot` (an axes-level function for histograms).\n",
            "  warnings.warn(msg, FutureWarning)\n"
          ],
          "name": "stderr"
        },
        {
          "output_type": "execute_result",
          "data": {
            "text/plain": [
              "<matplotlib.axes._subplots.AxesSubplot at 0x7f7c9fb02f50>"
            ]
          },
          "metadata": {
            "tags": []
          },
          "execution_count": 36
        },
        {
          "output_type": "display_data",
          "data": {
            "image/png": "[encoded data removed]",
            "text/plain": [
              "<Figure size 432x288 with 1 Axes>"
            ]
          },
          "metadata": {
            "tags": []
          }
        }
      ]
    },
    {
      "cell_type": "markdown",
      "metadata": {
        "id": "Jw6yoh21BYFn"
      },
      "source": [
        "in Weekdays Most accident occured\n",
        "\n",
        "Is the distribution of accidents by hour the same on weekends as on Weekdays ?"
      ]
    },
    {
      "cell_type": "code",
      "metadata": {
        "colab": {
          "base_uri": "https://localhost:8080/",
          "height": 350
        },
        "id": "IYN5il7Cgp8t",
        "outputId": "a985dacd-4474-4605-dada-e22a33cf0a10"
      },
      "source": [
        "Sundays_Start_Time = df.Start_Time[df.Start_Time.dt.dayofweek == 6]\n",
        "sns.distplot(Sundays_Start_Time.dt.hour,bins = 24, kde = False,norm_hist=True)"
      ],
      "execution_count": 37,
      "outputs": [
        {
          "output_type": "stream",
          "text": [
            "/usr/local/lib/python3.7/dist-packages/seaborn/distributions.py:2557: FutureWarning: `distplot` is a deprecated function and will be removed in a future version. Please adapt your code to use either `displot` (a figure-level function with similar flexibility) or `histplot` (an axes-level function for histograms).\n",
            "  warnings.warn(msg, FutureWarning)\n"
          ],
          "name": "stderr"
        },
        {
          "output_type": "execute_result",
          "data": {
            "text/plain": [
              "<matplotlib.axes._subplots.AxesSubplot at 0x7f7ca85000d0>"
            ]
          },
          "metadata": {
            "tags": []
          },
          "execution_count": 37
        },
        {
          "output_type": "display_data",
          "data": {
            "image/png": "[encoded data removed]",
            "text/plain": [
              "<Figure size 432x288 with 1 Axes>"
            ]
          },
          "metadata": {
            "tags": []
          }
        }
      ]
    },
    {
      "cell_type": "markdown",
      "metadata": {
        "id": "25JtU8SYCl59"
      },
      "source": [
        "In Sunday Mostly Accident occur between 1 PM to 3 PM"
      ]
    },
    {
      "cell_type": "code",
      "metadata": {
        "colab": {
          "base_uri": "https://localhost:8080/",
          "height": 350
        },
        "id": "TXqe9ell_3dx",
        "outputId": "43cb3cd5-47d7-4710-ba5d-5174da628349"
      },
      "source": [
        "sns.distplot(df.Start_Time.dt.month,bins = 12, kde = False,norm_hist=True)"
      ],
      "execution_count": 38,
      "outputs": [
        {
          "output_type": "stream",
          "text": [
            "/usr/local/lib/python3.7/dist-packages/seaborn/distributions.py:2557: FutureWarning: `distplot` is a deprecated function and will be removed in a future version. Please adapt your code to use either `displot` (a figure-level function with similar flexibility) or `histplot` (an axes-level function for histograms).\n",
            "  warnings.warn(msg, FutureWarning)\n"
          ],
          "name": "stderr"
        },
        {
          "output_type": "execute_result",
          "data": {
            "text/plain": [
              "<matplotlib.axes._subplots.AxesSubplot at 0x7f7c9fb25b50>"
            ]
          },
          "metadata": {
            "tags": []
          },
          "execution_count": 38
        },
        {
          "output_type": "display_data",
          "data": {
            "image/png": "[encoded data removed]",
            "text/plain": [
              "<Figure size 432x288 with 1 Axes>"
            ]
          },
          "metadata": {
            "tags": []
          }
        }
      ]
    },
    {
      "cell_type": "markdown",
      "metadata": {
        "id": "QesV_BzdDYCy"
      },
      "source": [
        "In December Month, Mostly accident Occur\n",
        "\n",
        "Much data is missing in 2016 , Maybe 2017\n",
        "\n",
        "Trend is increses over year and year\n",
        "\n",
        "There is some issue with Bing Data "
      ]
    },
    {
      "cell_type": "code",
      "metadata": {
        "colab": {
          "base_uri": "https://localhost:8080/"
        },
        "id": "HW18D0tUEYM3",
        "outputId": "2fcf0835-9b05-43ab-f3da-e13c50f34cf3"
      },
      "source": [
        "df.Start_Time.dt.year"
      ],
      "execution_count": 39,
      "outputs": [
        {
          "output_type": "execute_result",
          "data": {
            "text/plain": [
              "0          2019\n",
              "1          2019\n",
              "2          2020\n",
              "3          2018\n",
              "4          2016\n",
              "           ... \n",
              "2906605    2018\n",
              "2906606    2019\n",
              "2906607    2020\n",
              "2906608    2019\n",
              "2906609    2018\n",
              "Name: Start_Time, Length: 2906610, dtype: int64"
            ]
          },
          "metadata": {
            "tags": []
          },
          "execution_count": 39
        }
      ]
    },
    {
      "cell_type": "code",
      "metadata": {
        "colab": {
          "base_uri": "https://localhost:8080/",
          "height": 353
        },
        "id": "Zd1v8Gk_eI9u",
        "outputId": "0c673439-bf73-4ee1-b23b-e09bf5e8311a"
      },
      "source": [
        "df_2019 = df[df.Start_Time.dt.year == 2019]\n",
        "sns.distplot(df_2019.Start_Time.dt.month,bins = 12, kde = False,norm_hist=True)"
      ],
      "execution_count": 40,
      "outputs": [
        {
          "output_type": "stream",
          "text": [
            "/usr/local/lib/python3.7/dist-packages/seaborn/distributions.py:2557: FutureWarning: `distplot` is a deprecated function and will be removed in a future version. Please adapt your code to use either `displot` (a figure-level function with similar flexibility) or `histplot` (an axes-level function for histograms).\n",
            "  warnings.warn(msg, FutureWarning)\n"
          ],
          "name": "stderr"
        },
        {
          "output_type": "execute_result",
          "data": {
            "text/plain": [
              "<matplotlib.axes._subplots.AxesSubplot at 0x7f7c9fa08cd0>"
            ]
          },
          "metadata": {
            "tags": []
          },
          "execution_count": 40
        },
        {
          "output_type": "display_data",
          "data": {
            "image/png": "[encoded data removed]",
            "text/plain": [
              "<Figure size 432x288 with 1 Axes>"
            ]
          },
          "metadata": {
            "tags": []
          }
        }
      ]
    },
    {
      "cell_type": "code",
      "metadata": {
        "id": "TjbyZh50GFTk"
      },
      "source": [
        ""
      ],
      "execution_count": null,
      "outputs": []
    },
    {
      "cell_type": "code",
      "metadata": {
        "id": "4_uU9V7kGFRZ"
      },
      "source": [
        ""
      ],
      "execution_count": null,
      "outputs": []
    },
    {
      "cell_type": "markdown",
      "metadata": {
        "id": "hx6Ky8-ejeMk"
      },
      "source": [
        "## Ask and Answer Question\n",
        "\n",
        "1. Does New York show up in data? if yes, why is the count lower if it have maximum population ? -- ANSWERED\n",
        "2. Among the top 100 city in number of accidents,Which city do they belong to most frequently? --ANSWERED\n",
        "3. What time of the day are most accident frequent in? -- ANSWERED\n",
        "4. Which day have the most accidents ? -- ANSWERED\n",
        "5. Which Month have the most accidents?  -- ANSWERED\n",
        "6. What is the trend of accident increase over year(Increasing/decreasing)? -- ANSWERED\n"
      ]
    },
    {
      "cell_type": "code",
      "metadata": {
        "id": "ypv6JBrFjOwv"
      },
      "source": [
        ""
      ],
      "execution_count": null,
      "outputs": []
    },
    {
      "cell_type": "markdown",
      "metadata": {
        "id": "oWfCRju-jkb1"
      },
      "source": [
        "## Summary and Conclusion\n",
        "1. No data for New York\n",
        "2. Less than 5% cities have more than than 1000 yearly accident.\n",
        "3. over 1300 cities have just reported one accident .(need to investigate)\n",
        "4. Number of accidents  er city decrease exponentially\n"
      ]
    }
  ]
}